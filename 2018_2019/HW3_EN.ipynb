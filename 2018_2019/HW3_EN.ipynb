{
 "cells": [
  {
   "cell_type": "markdown",
   "metadata": {
    "collapsed": false
   },
   "source": [
    "<img src=\"https://raw.githubusercontent.com/tatusmatrix/RTR223f/master/2018_2019/images/HW3_1_EN.PNG\" align=\"left\">"
   ]
  },
  {
   "cell_type": "markdown",
   "metadata": {
    "collapsed": false
   },
   "source": [
    "$$\\left\\{\\begin{array}{rrrl}\n",
    "(R_1+R_2)\\cdot I_{I} & -(R_2)\\cdot I_{II} & +0\\cdot I_s & = U_s\\\\\n",
    "-(R_2)\\cdot I_{I} & +(R_2+R_3+R_4)\\cdot I_{II} & +(R_4)\\cdot I_s & = 0\n",
    "\\end{array}\\right.\n",
    "\\Rightarrow\n",
    "\\left\\{\\begin{array}{rrl}\n",
    "(R_1+R_2)\\cdot I_{I} & -(R_2)\\cdot I_{II} & = U_s\\\\\n",
    "-(R_2)\\cdot I_{I} & +(R_2+R_3+R_4)\\cdot I_{II} & = -(R_4)\\cdot I_s\n",
    "\\end{array}\\right.\n",
    "$$"
   ]
  },
  {
   "cell_type": "code",
   "execution_count": 1,
   "metadata": {
    "collapsed": false
   },
   "outputs": [
    {
     "name": "stdout",
     "output_type": "stream",
     "text": [
      "I1=  4.973A  I2=  2.021A  I3=  2.952A  I4=  4.202A\n",
      "U1= 39.787V  U2= 20.213V  U3= 11.809V  U4=  8.404V\n"
     ]
    }
   ],
   "source": [
    "# number of extraordinary nodes - m = 3 (between R1, R2, R3 - a; between R3, R4, Is - b; between Us, R2, R4, Is - c)\n",
    "# number of branches - z = 5 (Us V R1; R2; R3; R4; Is)\n",
    "# number of current sources - z_is = 1 (Is)\n",
    "# number of independent meshes - n2 = z - (m - 1) - z_is = 5 - (3 - 1) - 1 = 2 - number of equations\n",
    "# I_I mesh - clockwise direction - Us -> R1 -> R2\n",
    "# I_II mesh - clockwise direction - R2 -> R3 -> R4\n",
    "# Is mesh - counterclockwise direction - Is -> R4\n",
    "\n",
    "import numpy as np\n",
    "\n",
    "Us=60.; Is=1.25; R1=8.; R2=10.; R3=4.; R4=2.\n",
    "\n",
    "R = [[R1+R2,-R2],[-R2,R2+R3+R4]]\n",
    "U = [[Us],[-R4*Is]]\n",
    "I = np.linalg.solve(R, U)\n",
    "\n",
    "I_I = I[0]; I_II = I[1]\n",
    "I1 = I_I; I2 = I_I-I_II; I3 = I_II; I4 = I_II+Is\n",
    "U1 = I1*R1; U2 = I2*R2; U3 = I3*R3; U4 = I4*R4;\n",
    "\n",
    "print(\"I1=%7.3fA  I2=%7.3fA  I3=%7.3fA  I4=%7.3fA\"%(I1,I2,I3,I4))\n",
    "print(\"U1=%7.3fV  U2=%7.3fV  U3=%7.3fV  U4=%7.3fV\"%(U1,U2,U3,U4))"
   ]
  },
  {
   "cell_type": "markdown",
   "metadata": {
    "collapsed": false
   },
   "source": [
    "<img src=\"https://raw.githubusercontent.com/tatusmatrix/RTR223f/master/2018_2019/images/HW3_1_EN_pspice.PNG\" align=\"left\">"
   ]
  },
  {
   "cell_type": "markdown",
   "metadata": {
    "collapsed": false
   },
   "source": [
    "<img src=\"https://raw.githubusercontent.com/tatusmatrix/RTR223f/master/2018_2019/images/HW3_2_EN.PNG\" align=\"left\">"
   ]
  },
  {
   "cell_type": "markdown",
   "metadata": {
    "collapsed": false
   },
   "source": [
    "<img src=\"https://raw.githubusercontent.com/tatusmatrix/RTR223f/master/2018_2019/images/HW3_2_EN_pspice.PNG\" align=\"left\">"
   ]
  },
  {
   "cell_type": "markdown",
   "metadata": {
    "collapsed": false
   },
   "source": [
    "<img src=\"https://raw.githubusercontent.com/tatusmatrix/RTR223f/master/2018_2019/images/HW3_3_EN.PNG\" align=\"left\">"
   ]
  },
  {
   "cell_type": "markdown",
   "metadata": {
    "collapsed": false
   },
   "source": [
    "<img src=\"https://raw.githubusercontent.com/tatusmatrix/RTR223f/master/2018_2019/images/HW3_3_EN_pspice.PNG\" align=\"left\">"
   ]
  },
  {
   "cell_type": "markdown",
   "metadata": {
    "collapsed": false
   },
   "source": [
    "<img src=\"https://raw.githubusercontent.com/tatusmatrix/RTR223f/master/2018_2019/images/HW3_4_EN.PNG\" align=\"left\">"
   ]
  },
  {
   "cell_type": "markdown",
   "metadata": {
    "collapsed": false
   },
   "source": [
    "<img src=\"https://raw.githubusercontent.com/tatusmatrix/RTR223f/master/2018_2019/images/HW3_4_EN_pspice.PNG\" align=\"left\">"
   ]
  }
 ],
 "metadata": {
  "kernelspec": {
   "display_name": "Python 3 (Ubuntu Linux)",
   "language": "python",
   "metadata": {
    "cocalc": {
     "description": "Python 3 programming language",
     "priority": 100,
     "url": "https://www.python.org/"
    }
   },
   "name": "python3"
  },
  "language_info": {
   "codemirror_mode": {
    "name": "ipython",
    "version": 3
   },
   "file_extension": ".py",
   "mimetype": "text/x-python",
   "name": "python",
   "nbconvert_exporter": "python",
   "pygments_lexer": "ipython3",
   "version": "3.6.7"
  }
 },
 "nbformat": 4,
 "nbformat_minor": 0
}