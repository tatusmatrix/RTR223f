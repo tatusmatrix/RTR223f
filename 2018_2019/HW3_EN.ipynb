{
 "cells": [
  {
   "cell_type": "markdown",
   "metadata": {
    "collapsed": false
   },
   "source": [
    "<img src=\"https://raw.githubusercontent.com/tatusmatrix/RTR223f/master/2018_2019/images/HW3_1_EN.PNG\" align=\"left\">"
   ]
  },
  {
   "cell_type": "markdown",
   "metadata": {
    "collapsed": false
   },
   "source": [
    "$$\\left\\{\\begin{array}{rrrl}\n",
    "(R_1+R_2)\\cdot I_{I} & -(R_2)\\cdot I_{II} & +0\\cdot I_s & = U_s\\\\\n",
    "-(R_2)\\cdot I_{I} & +(R_2+R_3+R_4)\\cdot I_{II} & +(R_4)\\cdot I_s & = 0\n",
    "\\end{array}\\right.\n",
    "\\Rightarrow\n",
    "\\left\\{\\begin{array}{rrl}\n",
    "(R_1+R_2)\\cdot I_{I} & -(R_2)\\cdot I_{II} & = U_s\\\\\n",
    "-(R_2)\\cdot I_{I} & +(R_2+R_3+R_4)\\cdot I_{II} & = -(R_4)\\cdot I_s\n",
    "\\end{array}\\right.\n",
    "$$"
   ]
  },
  {
   "cell_type": "code",
   "execution_count": 1,
   "metadata": {
    "collapsed": false
   },
   "outputs": [
    {
     "name": "stdout",
     "output_type": "stream",
     "text": [
      "I1=  4.973A  I2=  2.021A  I3=  2.952A  I4=  4.202A\n",
      "U1= 39.787V  U2= 20.213V  U3= 11.809V  U4=  8.404V\n"
     ]
    }
   ],
   "source": [
    "# number of extraordinary nodes - m = 3 (between R1, R2, R3 - a; between R3, R4, Is - b; between Us, R2, R4, Is - c)\n",
    "# number of branches - z = 5 (Us V R1; R2; R3; R4; Is)\n",
    "# number of current sources - z_is = 1 (Is)\n",
    "# number of independent meshes - n2 = z - (m - 1) - z_is = 5 - (3 - 1) - 1 = 2 - number of equations\n",
    "# I_I mesh - clockwise direction - Us -> R1 -> R2\n",
    "# I_II mesh - clockwise direction - R2 -> R3 -> R4\n",
    "# Is mesh - counterclockwise direction - Is -> R4\n",
    "\n",
    "import numpy as np\n",
    "\n",
    "Us=60.; Is=1.25; R1=8.; R2=10.; R3=4.; R4=2.\n",
    "\n",
    "R = [[R1+R2,-R2],[-R2,R2+R3+R4]]\n",
    "U = [[Us],[-R4*Is]]\n",
    "I = np.linalg.solve(R, U)\n",
    "\n",
    "I_I = I[0]; I_II = I[1]\n",
    "I1 = I_I; I2 = I_I-I_II; I3 = I_II; I4 = I_II+Is\n",
    "U1 = I1*R1; U2 = I2*R2; U3 = I3*R3; U4 = I4*R4;\n",
    "\n",
    "print(\"I1=%7.3fA  I2=%7.3fA  I3=%7.3fA  I4=%7.3fA\"%(I1,I2,I3,I4))\n",
    "print(\"U1=%7.3fV  U2=%7.3fV  U3=%7.3fV  U4=%7.3fV\"%(U1,U2,U3,U4))"
   ]
  },
  {
   "cell_type": "markdown",
   "metadata": {
    "collapsed": false
   },
   "source": [
    "<img src=\"https://raw.githubusercontent.com/tatusmatrix/RTR223f/master/2018_2019/images/HW3_1_EN_pspice.PNG\" align=\"left\">"
   ]
  },
  {
   "cell_type": "markdown",
   "metadata": {
    "collapsed": false
   },
   "source": [
    "<img src=\"https://raw.githubusercontent.com/tatusmatrix/RTR223f/master/2018_2019/images/HW3_2_EN.PNG\" align=\"left\">"
   ]
  },
  {
   "cell_type": "markdown",
   "metadata": {
    "collapsed": false
   },
   "source": [
    "$$\\left\\{\\begin{array}{rrrll}\n",
    "-(G_1+G_2)\\cdot U_a & -(G_{I_s}+G_3)\\cdot U_b & +(G_1+G_2+G_{I_s}+G_3)\\cdot U_c & = -(G_1)\\cdot U_{s_1} & -I_s\n",
    "\\end{array}\\right.\\\\\n",
    "\\Rightarrow\\\\\n",
    "\\left\\{\\begin{array}{rlll}\n",
    "(G_1+G_2+G_{I_s}+G_3)\\cdot U_c & = -(G_1)\\cdot U_{s_1} & -I_s & +(G_1+G_2)\\cdot U_a\n",
    "\\end{array}\\right.$$"
   ]
  },
  {
   "cell_type": "code",
   "execution_count": 2,
   "metadata": {
    "collapsed": false
   },
   "outputs": [
    {
     "name": "stdout",
     "output_type": "stream",
     "text": [
      "I1=  0.749A  I2=  0.903A  I3= -0.074A\n",
      "U1=  7.486V  U2=  4.514V  U3= -1.486V\n"
     ]
    }
   ],
   "source": [
    "# number of extraordinary nodes - m = 3 (between R1, R2, Us2 - a; between Us2, Is, R3 - b; between Us1, R2, Is, R3 - c)\n",
    "# number of branches only with voltage sources - z_only_us = 1 (Us2)\n",
    "# number of unknown node potentials - n1 = (m - 1) - z_only_us = (3 - 1) - 1 = 1 - number of equations\n",
    "# reference node (or ground) - Ub = 0V\n",
    "# since between a node and b node is only voltage source, then\n",
    "# Ua = Ub + Us2 = Us2 numerically\n",
    "# conductivity of branch with current source - Gis = 0S\n",
    "\n",
    "Us1=12.; Us2=6.; Is=80.e-3; R1=10.; R2=5.; R3=20.\n",
    "G1 = 1/R1; G2 = 1/R2; G3 = 1/R3; Gis = 0\n",
    "\n",
    "Ub = 0\n",
    "Ua = Ub + Us2\n",
    "\n",
    "G = [[G1+G2+Gis+G3]]\n",
    "I = [[-G1*Us1-Is+(G1+G2)*Ua]]\n",
    "U = np.linalg.solve(G, I)\n",
    "\n",
    "Uc = U[0]\n",
    "U1 = Uc-Ua+Us1; U2 = Ua-Uc; U3 = Ub-Uc\n",
    "I1 = U1*G1; I2 = U2*G2; I3 = U3*G3\n",
    "\n",
    "print(\"I1=%7.3fA  I2=%7.3fA  I3=%7.3fA\"%(I1,I2,I3))\n",
    "print(\"U1=%7.3fV  U2=%7.3fV  U3=%7.3fV\"%(U1,U2,U3))"
   ]
  },
  {
   "cell_type": "markdown",
   "metadata": {
    "collapsed": false
   },
   "source": [
    "<img src=\"https://raw.githubusercontent.com/tatusmatrix/RTR223f/master/2018_2019/images/HW3_2_EN_pspice.PNG\" align=\"left\">"
   ]
  },
  {
   "cell_type": "markdown",
   "metadata": {
    "collapsed": false
   },
   "source": [
    "<img src=\"https://raw.githubusercontent.com/tatusmatrix/RTR223f/master/2018_2019/images/HW3_3_EN.PNG\" align=\"left\">"
   ]
  },
  {
   "cell_type": "markdown",
   "metadata": {
    "collapsed": false
   },
   "source": [
    "$$\\left\\{\\begin{array}{rrll}\n",
    "(G_1+G_{I_{s_2}}+G_4+G_{oc})\\cdot U_a & -(G_{oc}+G_4)\\cdot U_b & = -(G_{oc})\\cdot U_s & +I_{s_2}\\\\\n",
    "-(G_{oc}+G_4)\\cdot U_a & +(G_2+G_{I_{s_1}}+G_4+G_{oc})\\cdot U_b & = (G_{oc})\\cdot U_s & +I_{s_1}\n",
    "\\end{array}\\right.\\\\\n",
    "and\\\\\n",
    "\\left\\{\\begin{array}{rrrrl}\n",
    "(R_4)\\cdot I_{I} & -(R_4)\\cdot I_{II} & +0\\cdot I_{s_1} & +0\\cdot I_{s_2} & = U_s\\\\\n",
    "-(R_4)\\cdot I_{I} & +(R_1+R_4+R_2)\\cdot I_{II} & +(R_2)\\cdot I_{s_1} & -(R_1)\\cdot I_{s_2} & = 0\n",
    "\\end{array}\\right.$$"
   ]
  },
  {
   "cell_type": "code",
   "execution_count": 3,
   "metadata": {
    "collapsed": false
   },
   "outputs": [
    {
     "name": "stdout",
     "output_type": "stream",
     "text": [
      "Ua =-55.385 V  Ub  = 22.154 V  Ust=  2.462 V\n",
      "I_I=  0.533mA  I_II=-12.800mA  Isn=  0.533mA\n",
      "Rt=Rn=4615.385Ω\n",
      "I_through_R3_for_Thevenins_circuit=  0.286mA\n",
      "I_through_R3_for_Nortons_circuit  =  0.286mA\n"
     ]
    }
   ],
   "source": [
    "# circuit to replace - all around R3 - node m in left of R3, node n in right of R3 - direction of I3 from m to n\n",
    "Is1=24.e-3; Us=80.; R1=6.e3; R2=2.e3; R3=4.e3; R4=6.e3; k=2\n",
    "# number of extraordinary nodes - m = 3 (between R1, Is2, R4, R3 - a; between Us, R4, Is1, R2 - b; between R1, Is2, Is1, R2 - c)\n",
    "# conductivity of branches with current sources - Gis1 = 0S, Gis2 = 0S\n",
    "# conductivity of branch with o.c. - Goc = 0S\n",
    "G1 = 1/R1; G2 = 1/R2; G3 = 1/R3; G4 = 1/R4; Gis1 = 0.; Gis2 = 0.; Goc = 0.\n",
    "\n",
    "# a - Ust (Umnoc) - instead of R3 - o.c., node analysis could be used\n",
    "# number of branches only with voltage sources - z_only_us = 0\n",
    "# number of unknown node potentials - n1 = (m - 1) - z_only_us = (3 - 1) - 0 = 2 - number of equations\n",
    "# reference node (or ground) - Uc = 0V\n",
    "\n",
    "Uc = 0\n",
    "G = [[G1+Gis2+G4+Goc,-(Goc+G4)+k*G2],[-(Goc+G4),G2+Gis1+G4+Goc]]\n",
    "I = [[-Goc*Us],[Goc*Us+Is1]]\n",
    "U = np.linalg.solve(G, I)\n",
    "\n",
    "Ua = U[0]; Ub = U[1]\n",
    "Um = Ua; Un = Ub-Us\n",
    "Umnoc = Um-Un\n",
    "Ust = Umnoc\n",
    "\n",
    "print(\"Ua =%7.3f V  Ub  =%7.3f V  Ust=%7.3f V\"%(Ua,Ub,Ust))\n",
    "\n",
    "\n",
    "# b - Isn (Imnsc) - instead of R3 - s.c., mesh analysis could be used\n",
    "# number of branches - z = 6 (Us; R4; R2; Is2; Is1; R2)\n",
    "# number of current sources - z_is = 2 (Is1; Is2)\n",
    "# number of independent meshes - n2 = z - (m - 1) - z_is = 6 - (3 - 1) - 2 = 2 - number of equations\n",
    "# I_I mesh - clockwise direction - Us -> R4\n",
    "# I_II mesh - clockwise direction - R1 -> R4 -> R2\n",
    "# Is1 mesh - clockwise direction - Is1 -> R2\n",
    "# Is2 mesh - counterclockwise direction - Is2 -> R1\n",
    "\n",
    "R = [[R4,-R4],[-R4,(R1+R4+R2)+k*R1]]\n",
    "U = [[Us],[-R2*Is1-k*R1*Is1]]\n",
    "I = np.linalg.solve(R, U)\n",
    "\n",
    "I_I = I[0]; I_II = I[1]\n",
    "Imnsc = I_I\n",
    "Isn = Imnsc\n",
    "\n",
    "print(\"I_I=%7.3fmA  I_II=%7.3fmA  Isn=%7.3fmA\"%(I_I*1000,I_II*1000,Isn*1000))\n",
    "\n",
    "\n",
    "# Rt = Rn = Ust / Isn - since circuit contains controlled source (Is2) usual Req calculation couldn't be used\n",
    "Rt = Ust / Isn\n",
    "Rn = Rt\n",
    "print(\"Rt=Rn=%7.3f\\u03A9\"%(Rt))\n",
    "\n",
    "I_through_R3_for_Thevenins_circuit = Ust / (Rt + R3)\n",
    "I_through_R3_for_Nortons_circuit = Isn * Rn / (Rn + R3)\n",
    "\n",
    "print(\"I_through_R3_for_Thevenins_circuit=%7.3fmA\"%(I_through_R3_for_Thevenins_circuit*1000))\n",
    "print(\"I_through_R3_for_Nortons_circuit  =%7.3fmA\"%(I_through_R3_for_Nortons_circuit*1000))"
   ]
  },
  {
   "cell_type": "markdown",
   "metadata": {
    "collapsed": false
   },
   "source": [
    "<img src=\"https://raw.githubusercontent.com/tatusmatrix/RTR223f/master/2018_2019/images/HW3_3_EN_pspice.PNG\" align=\"left\">"
   ]
  },
  {
   "cell_type": "markdown",
   "metadata": {
    "collapsed": false
   },
   "source": [
    "<img src=\"https://raw.githubusercontent.com/tatusmatrix/RTR223f/master/2018_2019/images/HW3_4_EN.PNG\" align=\"left\">"
   ]
  },
  {
   "cell_type": "markdown",
   "metadata": {
    "collapsed": false
   },
   "source": [
    "$$\\left\\{\\begin{array}{rrrl}\n",
    "(R_1+R_2)\\cdot I_{I} & -(R_2)\\cdot I_{II} & -0\\cdot I_{III} & = U_{s_1}\\\\\n",
    "-(R_2)\\cdot I_{I} & +(R_2)\\cdot I_{II} & -0\\cdot I_{III} & = -U_{s_2}\\\\\n",
    "-0\\cdot I_{I} & -0\\cdot I_{II} & +(R_3)\\cdot I_{III} & = U_{s_2}\\\\\n",
    "\\end{array}\\right.\\\\\n",
    "and\\\\\n",
    "\\begin{array}{rl}U_a & = U_{s_2}\\end{array} and \\begin{array}{rlll}U_{R_1} & = U_a & -U_b & -U_{s_1}\\end{array} \\Rightarrow\n",
    "\\begin{array}{rlll}U_{R_1} & = U_{s_2} & -U_b & -U_{s_1}\\end{array}$$"
   ]
  },
  {
   "cell_type": "code",
   "execution_count": 4,
   "metadata": {
    "collapsed": false
   },
   "outputs": [
    {
     "name": "stdout",
     "output_type": "stream",
     "text": [
      "I_I=  0.900A  I_II=  1.800A  I_III= -0.300A\n",
      "I3 = -0.300A\n",
      "I3 = -0.300A\n"
     ]
    }
   ],
   "source": [
    "# number of extraordinary nodes - m = 2 (between R1, R2, Us2, R3 - a; between Us1, R2, Us2, R3 - b)\n",
    "\n",
    "Us1=9.; R1=20.; R2=10.; R3=30.; k=0.5\n",
    "G1 = 1/R1; G2 = 1/R2; G3 = 1/R3\n",
    "\n",
    "# a - mesh analysis\n",
    "# number of branches - z = 4 (Us1 V R1; R2; Us2; R3)\n",
    "# number of current sources - z_is = 0\n",
    "# number of independent meshes - n2 = z - (m - 1) - z_is = 4 - (2 - 1) - 0 = 3 - number of equations\n",
    "# I_I mesh - clockwise direction - Us1 -> R1 -> R2\n",
    "# I_II mesh - clockwise direction - R2 -> Us2\n",
    "# I_III mesh - clockwise direction - Us2 -> R3\n",
    "\n",
    "R = [[R1+R2,-R2,0],[-(R2)-k*R1,R2,0],[k*R1,0,R3]]\n",
    "U = [[Us1],[0],[0]]\n",
    "I = np.linalg.solve(R, U)\n",
    "\n",
    "I_I = I[0]; I_II = I[1]; I_III = I[2]\n",
    "I3 = I_III\n",
    "print(\"I_I=%7.3fA  I_II=%7.3fA  I_III=%7.3fA\"%(I_I,I_II,I_III))\n",
    "print(\"I3 =%7.3fA\"%(I3))\n",
    "\n",
    "\n",
    "# b - nodal analysis\n",
    "# number of branches only with voltage sources - z_only_us = 1 (Us2)\n",
    "# number of unknown node potentials - n1 = (m - 1) - z_only_us = (2 - 1) - 1 = 0 - number of equations\n",
    "# reference node (or ground) - Ub = 0V\n",
    "# since between a node and b node is only voltage sorce, then\n",
    "# Ua = Ub + Us2 = Us2 numerically\n",
    "\n",
    "Ub = 0\n",
    "U1 = (Ub-Us1) / (1-k)\n",
    "Us2 = k*U1\n",
    "Ua = Us2\n",
    "I3 = (Ua-Ub)*G3\n",
    "\n",
    "print(\"I3 =%7.3fA\"%(I3))"
   ]
  },
  {
   "cell_type": "markdown",
   "metadata": {
    "collapsed": false
   },
   "source": [
    "<img src=\"https://raw.githubusercontent.com/tatusmatrix/RTR223f/master/2018_2019/images/HW3_4_EN_pspice.PNG\" align=\"left\">"
   ]
  }
 ],
 "metadata": {
  "kernelspec": {
   "display_name": "Python 3 (Ubuntu Linux)",
   "language": "python",
   "metadata": {
    "cocalc": {
     "description": "Python 3 programming language",
     "priority": 100,
     "url": "https://www.python.org/"
    }
   },
   "name": "python3"
  },
  "language_info": {
   "codemirror_mode": {
    "name": "ipython",
    "version": 3
   },
   "file_extension": ".py",
   "mimetype": "text/x-python",
   "name": "python",
   "nbconvert_exporter": "python",
   "pygments_lexer": "ipython3",
   "version": "3.6.7"
  }
 },
 "nbformat": 4,
 "nbformat_minor": 0
}