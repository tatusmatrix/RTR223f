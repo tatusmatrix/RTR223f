{
 "cells": [
  {
   "cell_type": "markdown",
   "metadata": {},
   "source": [
    "<img src=\"https://raw.githubusercontent.com/tatusmatrix/RTR223f/master/2018_2019/images/HW1_0_EN.PNG\" align=\"left\">\n",
    "<img src=\"https://raw.githubusercontent.com/tatusmatrix/RTR223f/master/2018_2019/images/HW1_1_EN.PNG\" align=\"left\">"
   ]
  },
  {
   "cell_type": "code",
   "execution_count": 1,
   "metadata": {},
   "outputs": [
    {
     "name": "stdout",
     "output_type": "stream",
     "text": [
      "I1=  5.000A  I2=  2.000A  I3=  3.000A  I4=  4.000A  Ius=  -5.000A  Is =  1.000A\n",
      "U1= 40.000V  U2= 20.000V  U3= 12.000V  U4=  8.000V  Us =  60.000V  Uis= -8.000V\n",
      "P1=200.000W  P2= 40.000W  P3= 36.000W  P4= 32.000W  Pus=-300.000W  Pis= -8.000W\n",
      "P =  0.000W\n"
     ]
    }
   ],
   "source": [
    "Us=60.; I1=5.; R1=8.; R2=10.; R3=4.; R4=2.\n",
    "Ius =-I1\n",
    "U1  = I1 * R1\n",
    "U2  = Us - U1\n",
    "I2  = U2 / R2\n",
    "I3  = I1 - I2\n",
    "U3  = I3 * R3\n",
    "U4  = U2 - U3\n",
    "I4  = U4 / R4\n",
    "Is  = I4 - I3\n",
    "Uis =-U4 #(correct direction is to the up - the same as for direction of current in current source)\n",
    "P1 = U1*I1; P2 = U2*I2; P3 = U3*I3; P4 = U4*I4; Pus = Us*Ius; Pis = Uis*Is\n",
    "P = P1 + P2 + P3 + P4 + Pus + Pis\n",
    "print(\"I1=%7.3fA  I2=%7.3fA  I3=%7.3fA  I4=%7.3fA  Ius=%8.3fA  Is =%7.3fA\"%(I1,I2,I3,I4,Ius,Is))\n",
    "print(\"U1=%7.3fV  U2=%7.3fV  U3=%7.3fV  U4=%7.3fV  Us =%8.3fV  Uis=%7.3fV\"%(U1,U2,U3,U4,Us, Uis))\n",
    "print(\"P1=%7.3fW  P2=%7.3fW  P3=%7.3fW  P4=%7.3fW  Pus=%8.3fW  Pis=%7.3fW\"%(P1,P2,P3,P4,Pus,Pis))\n",
    "print(\"P =%7.3fW\"%(P))"
   ]
  },
  {
   "cell_type": "markdown",
   "metadata": {},
   "source": [
    "<img src=\"https://raw.githubusercontent.com/tatusmatrix/RTR223f/master/2018_2019/images/HW1_2_EN.PNG\" align=\"left\">"
   ]
  },
  {
   "cell_type": "markdown",
   "metadata": {},
   "source": [
    "$I_1 - \\textrm{direction } d\\rightarrow a\\rightarrow b\\\\I_2 - \\textrm{direction } b\\rightarrow d\\\\I_3 - \\textrm{direction } c\\rightarrow d\\\\I_{u_{s_2}} - \\textrm{direction } b\\rightarrow c$\n",
    "$$\\left\\{\\begin{array}{rrrl}\n",
    "1\\cdot I_1 & -1\\cdot I_2 & -1\\cdot I_3 & = -I_s\\\\\n",
    "R_1\\cdot I_1 & +R_2\\cdot I_2 & +0\\cdot I_3 & = U_{s_1}\\\\\n",
    "0\\cdot I_1 & -R_2\\cdot I_2 & +R_3\\cdot I_3 & = -U_{s_2}\\\\\n",
    "\\end{array}\\right.$$"
   ]
  },
  {
   "cell_type": "code",
   "execution_count": 2,
   "metadata": {},
   "outputs": [],
   "source": [
    "import numpy as np"
   ]
  },
  {
   "cell_type": "code",
   "execution_count": 3,
   "metadata": {},
   "outputs": [
    {
     "name": "stdout",
     "output_type": "stream",
     "text": [
      "I1=  0.749A  I2=  0.903A  I3= -0.074A  Ius1= -0.749A  Ius2= -0.154A  Is =  0.080A\n",
      "U1=  7.486V  U2=  4.514V  U3= -1.486V  Us1 = 12.000V  Us2 =  6.000V  Uis=  1.486V\n",
      "P1=  5.604W  P2=  4.076W  P3=  0.110W  Pus1= -8.983W  Pus2= -0.926W  Pis=  0.119W\n",
      "P = -0.000W\n"
     ]
    }
   ],
   "source": [
    "Us1=12.; Us2=6.; Is=80.e-3; R1=10.; R2=5.; R3=20.\n",
    "\n",
    "R = [[1,-1,-1],[R1,R2,0],[0,-R2,R3]]\n",
    "U = [[-Is],[Us1],[-Us2]]\n",
    "I = np.linalg.solve(R, U)\n",
    "\n",
    "I1 = I[0]; I2 = I[1]; I3 = I[2]; Ius1 = -I1; Ius2 = I1 - I2\n",
    "U1 = I1*R1; U2 = I2*R2; U3 = I3*R3; Uis = -U3\n",
    "P1 = U1*I1; P2 = U2*I2; P3 = U3*I3; Pus1 = Us1*Ius1; Pus2 = Us2*Ius2; Pis = Uis*Is\n",
    "\n",
    "P = P1 + P2 + P3 + Pus1 + Pus2 + Pis\n",
    "print(\"I1=%7.3fA  I2=%7.3fA  I3=%7.3fA  Ius1=%7.3fA  Ius2=%7.3fA  Is =%7.3fA\"%(I1,I2,I3,Ius1,Ius2,Is))\n",
    "print(\"U1=%7.3fV  U2=%7.3fV  U3=%7.3fV  Us1 =%7.3fV  Us2 =%7.3fV  Uis=%7.3fV\"%(U1,U2,U3,Us1, Us2, Uis))\n",
    "print(\"P1=%7.3fW  P2=%7.3fW  P3=%7.3fW  Pus1=%7.3fW  Pus2=%7.3fW  Pis=%7.3fW\"%(P1,P2,P3,Pus1,Pus2,Pis))\n",
    "print(\"P =%7.3fW\"%(P))"
   ]
  },
  {
   "cell_type": "markdown",
   "metadata": {},
   "source": [
    "<img src=\"https://raw.githubusercontent.com/tatusmatrix/RTR223f/master/2018_2019/images/HW1_3_EN.PNG\" align=\"left\">"
   ]
  },
  {
   "cell_type": "markdown",
   "metadata": {},
   "source": [
    "$$\\left\\{\\begin{array}{rrl}\n",
    "1\\cdot I_1 & -1\\cdot I_2 &  = I_{s_a} + I_s\\\\\n",
    "R_1\\cdot I_1 & +R_2\\cdot I_2 & = 0\\\\\n",
    "\\end{array}\\right.\n",
    "\\Rightarrow\n",
    "\\left\\{\\begin{array}{rrl}\n",
    "1\\cdot I_1 & -3\\cdot I_2 &  = I_s\\\\\n",
    "R_1\\cdot I_1 & +R_2\\cdot I_2 & = 0\\\\\n",
    "\\end{array}\\right.$$"
   ]
  },
  {
   "cell_type": "code",
   "execution_count": 4,
   "metadata": {},
   "outputs": [
    {
     "name": "stdout",
     "output_type": "stream",
     "text": [
      "I1=  2.400mA  I2=  -7.200mA  Isa = -14.400mA  Is =  24.000mA\n",
      "U1= 14.400 V  U2= -14.400 V  Uisa= -14.400 V  Uis= -14.400 V\n",
      "P1= 34.560mW  P2= 103.680mW  Pisa= 207.360mW  Pis=-345.600mW\n",
      "P =  0.000 W\n"
     ]
    }
   ],
   "source": [
    "Is=24.e-3; R1=6.e3; R2=2.e3\n",
    "\n",
    "R = [[1,-3],[R1,R2]]\n",
    "U = [[Is],[0]]\n",
    "I = np.linalg.solve(R, U)\n",
    "\n",
    "I1 = I[0]; I2 = I[1]; Isa = 2*I2\n",
    "U1 = I1*R1; U2 = I2*R2; Uisa = U2; Uis = U2\n",
    "P1 = U1*I1; P2 = U2*I2; Pisa = Uisa*Isa; Pis = Uis*Is\n",
    "\n",
    "P = P1 + P2 + Pisa + Pis\n",
    "print(\"I1=%7.3fmA  I2=%8.3fmA  Isa =%8.3fmA  Is =%8.3fmA\"%(I1*1.e3,I2*1.e3,Isa*1.e3 ,Is*1.e3))\n",
    "print(\"U1=%7.3f V  U2=%8.3f V  Uisa=%8.3f V  Uis=%8.3f V\"%(U1,U2,Uisa,Uis))\n",
    "print(\"P1=%7.3fmW  P2=%8.3fmW  Pisa=%8.3fmW  Pis=%8.3fmW\"%(P1*1.e3,P2*1.e3,Pisa*1.e3,Pis*1.e3))\n",
    "print(\"P =%7.3f W\"%(P))"
   ]
  },
  {
   "cell_type": "markdown",
   "metadata": {},
   "source": [
    "<img src=\"https://raw.githubusercontent.com/tatusmatrix/RTR223f/master/2018_2019/images/HW1_4_EN.PNG\" align=\"left\">"
   ]
  },
  {
   "cell_type": "markdown",
   "metadata": {},
   "source": [
    "$$\\left\\{\\begin{array}{rrrl}\n",
    "-R_1\\cdot I_1 & +R_2\\cdot I_2 & +0\\cdot I_3 & = U_s\\\\\n",
    "0\\cdot I_1 & +R_2\\cdot I_2 & +0\\cdot I_3 & = U_{s_a}\\\\\n",
    "0\\cdot I_1 & +R_2\\cdot I_2 & -R_3\\cdot I_3 & = 0\\\\\n",
    "\\end{array}\\right.\n",
    "\\Rightarrow\n",
    "\\left\\{\\begin{array}{rrrl}\n",
    "-R_1\\cdot I_1 & +R_2\\cdot I_2 & +0\\cdot I_3 & = U_s\\\\\n",
    "-0.5\\cdot R_1\\cdot I_1 & +R_2\\cdot I_2 & +0\\cdot I_3 & = 0\\\\\n",
    "0\\cdot I_1 & +R_2\\cdot I_2 & -R_3\\cdot I_3 & = 0\\\\\n",
    "\\end{array}\\right.$$"
   ]
  },
  {
   "cell_type": "code",
   "execution_count": 5,
   "metadata": {},
   "outputs": [
    {
     "name": "stdout",
     "output_type": "stream",
     "text": [
      "I1= -0.900A  I2= -0.900A  I3= -0.300A  Ius= -0.900A  Iusa=  2.100A\n",
      "U1=-18.000V  U2= -9.000V  U3= -9.000V  Us =  9.000V  Usa = -9.000V\n",
      "P1= 16.200W  P2=  8.100W  P3=  2.700W  Pus= -8.100W  Pusa=-18.900W\n",
      "P = -0.000W\n"
     ]
    }
   ],
   "source": [
    "Us=9.; R1=20.; R2=10.; R3=30.; k=0.5\n",
    "\n",
    "R = [[-R1,R2,0],[-k*R1,R2,0],[0,R2,-R3]]\n",
    "U = [[Us],[0],[0]]\n",
    "I = np.linalg.solve(R, U)\n",
    "\n",
    "I1 = I[0]; I2 = I[1]; I3 = I[2]; Ius = I1; Iusa = -I1 - I2 -I3\n",
    "U1 = I1*R1; U2 = I2*R2; U3 = I3*R3; Usa = k*U1\n",
    "P1 = U1*I1; P2 = U2*I2; P3 = U3*I3; Pus = Us*Ius; Pusa = Usa*Iusa\n",
    "\n",
    "P = P1 + P2 + P3 + Pus + Pusa\n",
    "print(\"I1=%7.3fA  I2=%7.3fA  I3=%7.3fA  Ius=%7.3fA  Iusa=%7.3fA\"%(I1,I2,I3,Ius,Iusa))\n",
    "print(\"U1=%7.3fV  U2=%7.3fV  U3=%7.3fV  Us =%7.3fV  Usa =%7.3fV\"%(U1,U2,U3,Us, Usa))\n",
    "print(\"P1=%7.3fW  P2=%7.3fW  P3=%7.3fW  Pus=%7.3fW  Pusa=%7.3fW\"%(P1,P2,P3,Pus,Pusa))\n",
    "print(\"P =%7.3fW\"%(P))"
   ]
  }
 ],
 "metadata": {
  "kernelspec": {
   "display_name": "Python 3",
   "language": "python",
   "name": "python3"
  },
  "language_info": {
   "codemirror_mode": {
    "name": "ipython",
    "version": 3
   },
   "file_extension": ".py",
   "mimetype": "text/x-python",
   "name": "python",
   "nbconvert_exporter": "python",
   "pygments_lexer": "ipython3",
   "version": "3.6.6"
  }
 },
 "nbformat": 4,
 "nbformat_minor": 2
}
